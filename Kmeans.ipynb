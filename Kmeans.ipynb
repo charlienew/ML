{
 "cells": [
  {
   "cell_type": "markdown",
   "metadata": {},
   "source": [
    "# Kmeans Experiment"
   ]
  },
  {
   "cell_type": "code",
   "execution_count": 64,
   "metadata": {},
   "outputs": [],
   "source": [
    "import numpy as np\n",
    "import random\n",
    "import math\n",
    "import statistics\n",
    "from time import time\n",
    "\n",
    "class KmeansCluster(object):\n",
    "\n",
    "    def __init__(self, n_clusters, threshold, \n",
    "                 max_iteration, search_times, method = \"l2\"):\n",
    "        self.nclusters = n_clusters\n",
    "        self.threshold = threshold\n",
    "        self.max_iter = max_iteration\n",
    "        self.search_times = search_times\n",
    "        if method == \"l1\":\n",
    "            self.method = 0\n",
    "        else:\n",
    "            if method == \"l2\":\n",
    "                self.method = 1\n",
    "            else:\n",
    "                print(\"Invalid method index!\")\n",
    "        \n",
    "    def centers_ini(self, data):        \n",
    "        data = np.array(data)\n",
    "        length = data.shape[0]\n",
    "        index = random.sample(range(length), self.nclusters)\n",
    "        centers = [data[i] for i in index]\n",
    "        return centers\n",
    "    \n",
    "    def distance(self, centers, data):\n",
    "        data = np.array(data)\n",
    "        length = data.shape[0]\n",
    "        distance = np.zeros(shape = \n",
    "                            (data.shape[0], self.nclusters))   \n",
    "        for i in range(length):\n",
    "            for j in range(self.nclusters):\n",
    "                tmp = data[i] - centers[j]\n",
    "                distance[i,j] = (self.method * np.sum(tmp * tmp.T) \n",
    "                                 + (1-self.method) * np.sum(abs(tmp)))\n",
    "        return distance\n",
    "    \n",
    "    def getlabels(self, distance, data):\n",
    "        data = np.array(data)\n",
    "        labels = []\n",
    "        sum_distance_ = 0\n",
    "        length = data.shape[0]\n",
    "        for i in range(length):\n",
    "            location = np.where(distance[i] == distance[i].min())\n",
    "            labels.append(location[0][0])\n",
    "            sum_distance_ = (sum_distance_ + \n",
    "                             self.method * math.sqrt(distance[i].min()) +\n",
    "                             (1-self.method) * distance[i].min())\n",
    "        return (np.array(labels), sum_distance_)\n",
    "          \n",
    "    def centers_update(self, labels, data): \n",
    "        data = np.array(data)\n",
    "        centers = np.zeros(shape = (self.nclusters,\n",
    "                                    data.shape[1]))\n",
    "        for i in range(self.nclusters):\n",
    "            tmp = data[np.where(labels == i)]\n",
    "            if self.method == 1:\n",
    "                for j in range(data.shape[1]):\n",
    "                    centers[i, j] = statistics.mean(tmp[:, j])\n",
    "            else:\n",
    "                for j in range(data.shape[1]):\n",
    "                    centers[i, j] = statistics.median(tmp[:, j])\n",
    "        return centers\n",
    "    \n",
    "    def run(self, data):\n",
    "        centers = self.centers_ini(data)\n",
    "        distance = self.distance(centers, data)\n",
    "        (labels, sum_dist_pre) = self.getlabels(distance, data)\n",
    "        delta = self.threshold + 1\n",
    "        iter_count = 0\n",
    "        performance = [sum_dist_pre]\n",
    "        while delta > self.threshold:\n",
    "            centers = self.centers_update(labels, data)\n",
    "            distance = self.distance(centers, data)\n",
    "            (labels, sum_dist_post) = self.getlabels(distance, data)\n",
    "            delta = sum_dist_pre - sum_dist_post\n",
    "            sum_dist_pre = sum_dist_post\n",
    "            iter_count = iter_count + 1\n",
    "            if iter_count >= self.max_iter:\n",
    "                break\n",
    "            performance.append(sum_dist_pre)\n",
    "        return (labels, iter_count, centers, np.array(performance))\n",
    "    \n",
    "    def fit(self, data):\n",
    "        search = 1\n",
    "        start = time()\n",
    "        (labels, iter_count, centers, performance) = self.run(data)\n",
    "        while search < self.search_times:\n",
    "            (label_search, iter_count_search, \n",
    "             centers_search, performance_search) = self.run(data)\n",
    "            if performance_search.min() < performance.min():\n",
    "                (labels, iter_count,\n",
    "                 centers, performance) = (label_search, iter_count_search,\n",
    "                                          centers_search, performance_search)\n",
    "            search = search + 1\n",
    "        (self.labels, self.centers, self.performance,\n",
    "         self.iter_count) = (labels, \n",
    "                             centers, performance, iter_count)\n",
    "        print(\"Iteration:{} Performance:{} Run_time:{} seconds\".format(\n",
    "            self.iter_count, self.performance.min(), time() - start))\n",
    "        return self.labels\n",
    "    \n",
    "    def predict(self, pred_data):\n",
    "        pred_data = np.array(pred_data)\n",
    "        distance = self.distance(self.centers, pred_data)\n",
    "        pred_labels = self.getlabels(distance, pred_data)\n",
    "        return pred_labels"
   ]
  },
  {
   "cell_type": "code",
   "execution_count": 65,
   "metadata": {},
   "outputs": [],
   "source": [
    "from sklearn import datasets\n",
    "iris = datasets.load_iris()"
   ]
  },
  {
   "cell_type": "code",
   "execution_count": 126,
   "metadata": {},
   "outputs": [
    {
     "name": "stdout",
     "output_type": "stream",
     "text": [
      "Iteration:6 Performance:97.19012522252152 Run_time:0.25061893463134766 seconds\n",
      "Iteration:9 Performance:159.29999999999998 Run_time:0.13302230834960938 seconds\n",
      "[0 0 0 0 0 0 0 0 0 0 0 0 0 0 0 0 0 0 0 0 0 0 0 0 0 0 0 0 0 0 0 0 0 0 0 0 0\n",
      " 0 0 0 0 0 0 0 0 0 0 0 0 0 2 1 2 1 1 1 1 1 1 1 1 1 1 1 1 1 1 1 1 1 1 1 1 1\n",
      " 1 1 1 2 1 1 1 1 1 1 1 1 1 1 1 1 1 1 1 1 1 1 1 1 1 1 2 1 2 2 2 2 1 2 2 2 2\n",
      " 2 2 1 1 2 2 2 2 1 2 1 2 1 2 2 1 1 2 2 2 2 2 1 2 2 2 2 1 2 2 2 1 2 2 2 1 2\n",
      " 2 1]\n",
      "[1 1 1 1 1 1 1 1 1 1 1 1 1 1 1 1 1 1 1 1 1 1 1 1 1 1 1 1 1 1 1 1 1 1 1 1 1\n",
      " 1 1 1 1 1 1 1 1 1 1 1 1 1 0 0 2 0 0 0 0 0 0 0 0 0 0 0 0 0 0 0 0 0 0 0 0 0\n",
      " 0 0 0 2 0 0 0 0 0 0 0 0 0 0 0 0 0 0 0 0 0 0 0 0 0 0 2 0 2 2 2 2 0 2 2 2 2\n",
      " 2 2 0 0 2 2 2 2 0 2 0 2 0 2 2 0 0 2 2 2 2 2 0 0 2 2 2 0 2 2 2 0 2 2 2 0 2\n",
      " 2 0]\n"
     ]
    }
   ],
   "source": [
    "kc = KmeansCluster(n_clusters = 3, threshold  = 0.001,\n",
    "                   search_times = 5, max_iteration = 15, method = 'l2')\n",
    "labels = kc.fit(iris.data)\n",
    "kc2 = KmeansCluster(n_clusters = 3, threshold = 0.001,\n",
    "                    search_times = 5, max_iteration = 15, method = 'l1')\n",
    "labels2 = kc2.fit(iris.data)\n",
    "print(labels)\n",
    "print(labels2)"
   ]
  },
  {
   "cell_type": "code",
   "execution_count": 125,
   "metadata": {},
   "outputs": [
    {
     "name": "stdout",
     "output_type": "stream",
     "text": [
      "[0 0 0 0 0 0 0 0 0 0 0 0 0 0 0 0 0 0 0 0 0 0 0 0 0 0 0 0 0 0 0 0 0 0 0 0 0\n",
      " 0 0 0 0 0 0 0 0 0 0 0 0 0 1 1 1 1 1 1 1 1 1 1 1 1 1 1 1 1 1 1 1 1 1 1 1 1\n",
      " 1 1 1 1 1 1 1 1 1 1 1 1 1 1 1 1 1 1 1 1 1 1 1 1 1 1 2 2 2 2 2 2 2 2 2 2 2\n",
      " 2 2 2 2 2 2 2 2 2 2 2 2 2 2 2 2 2 2 2 2 2 2 2 2 2 2 2 2 2 2 2 2 2 2 2 2 2\n",
      " 2 2]\n"
     ]
    }
   ],
   "source": [
    "print(iris.target)"
   ]
  },
  {
   "cell_type": "code",
   "execution_count": 127,
   "metadata": {},
   "outputs": [
    {
     "name": "stdout",
     "output_type": "stream",
     "text": [
      "[0 0 0 0 0 0 0 0 0 0 0 0 0 0 0 0 0 0 0 0 0 0 0 0 0 0 0 0 0 0 0 0 0 0 0 0 0\n",
      " 0 0 0 0 0 0 0 0 0 0 0 0 0 1 1 2 1 1 1 1 1 1 1 1 1 1 1 1 1 1 1 1 1 1 1 1 1\n",
      " 1 1 1 2 1 1 1 1 1 1 1 1 1 1 1 1 1 1 1 1 1 1 1 1 1 1 2 1 2 2 2 2 1 2 2 2 2\n",
      " 2 2 1 1 2 2 2 2 1 2 1 2 1 2 2 1 1 2 2 2 2 2 1 1 2 2 2 1 2 2 2 1 2 2 2 1 2\n",
      " 2 1]\n"
     ]
    }
   ],
   "source": [
    "for i in range(150):\n",
    "    if labels2[i] == 1:\n",
    "        labels2[i] = 0\n",
    "    elif labels2[i] == 0:\n",
    "        labels2[i] = 1\n",
    "print(labels2)"
   ]
  },
  {
   "cell_type": "code",
   "execution_count": 148,
   "metadata": {},
   "outputs": [
    {
     "data": {
      "text/plain": [
       "Text(0.5,1,'Performance by Iteration Using L1 Penalty')"
      ]
     },
     "execution_count": 148,
     "metadata": {},
     "output_type": "execute_result"
    },
    {
     "data": {
      "image/png": "[encoded data removed]",
      "text/plain": [
       "<matplotlib.figure.Figure at 0x19734684470>"
      ]
     },
     "metadata": {},
     "output_type": "display_data"
    }
   ],
   "source": [
    "import matplotlib.pyplot as plt\n",
    "%matplotlib inline\n",
    "plt.figure(figsize = (15,5))\n",
    "plt.subplot(1,2,1)\n",
    "plt.plot(kc.performance)\n",
    "plt.title(\"Performance by Iteration Using L2 Penalty\")\n",
    "plt.subplot(1,2,2)\n",
    "plt.plot(kc2.performance)\n",
    "plt.title(\"Performance by Iteration Using L1 Penalty\")"
   ]
  },
  {
   "cell_type": "markdown",
   "metadata": {},
   "source": [
    "## Rsult Visualization Using T-SNE"
   ]
  },
  {
   "cell_type": "code",
   "execution_count": 151,
   "metadata": {},
   "outputs": [
    {
     "data": {
      "image/png": "[encoded data removed]",
      "text/plain": [
       "<matplotlib.figure.Figure at 0x19734551898>"
      ]
     },
     "metadata": {},
     "output_type": "display_data"
    }
   ],
   "source": [
    "import pandas as pd\n",
    "colors = ['blue', 'darkorange', 'black']\n",
    "titles = [\"original\", \"Clustering Result Using L2 Penalty\",\n",
    "         \"Clustering Result Using L1 Penalty\"]\n",
    "label  = (iris.target, labels, labels2)\n",
    "\n",
    "from sklearn.manifold import TSNE\n",
    "data = TSNE(n_components = 2, random_state = 47\n",
    "           ).fit_transform(iris.data)\n",
    "\n",
    "def iris_visual_result(labels, colors, title):\n",
    "    for n, color in enumerate(colors):\n",
    "        tmp = data[np.where(labels == n)]\n",
    "        plt.scatter(tmp[:, 0], tmp[:, 1], c = color,\n",
    "                      label = iris.target_names[n])\n",
    "    plt.title(title)\n",
    "    plt.legend(scatterpoints = 1, loc = 'best',\n",
    "              prop = dict(size = 12))\n",
    "\n",
    "plt.figure(figsize = (15,4))\n",
    "for i in range(3):\n",
    "    plt.subplot(1,3, i+1)\n",
    "    iris_visual_result(label[i], colors, titles[i])"
   ]
  },
  {
   "cell_type": "code",
   "execution_count": null,
   "metadata": {},
   "outputs": [],
   "source": []
  },
  {
   "cell_type": "code",
   "execution_count": null,
   "metadata": {},
   "outputs": [],
   "source": []
  }
 ],
 "metadata": {
  "kernelspec": {
   "display_name": "Python 3",
   "language": "python",
   "name": "python3"
  },
  "language_info": {
   "codemirror_mode": {
    "name": "ipython",
    "version": 3
   },
   "file_extension": ".py",
   "mimetype": "text/x-python",
   "name": "python",
   "nbconvert_exporter": "python",
   "pygments_lexer": "ipython3",
   "version": "3.6.3"
  }
 },
 "nbformat": 4,
 "nbformat_minor": 2
}
